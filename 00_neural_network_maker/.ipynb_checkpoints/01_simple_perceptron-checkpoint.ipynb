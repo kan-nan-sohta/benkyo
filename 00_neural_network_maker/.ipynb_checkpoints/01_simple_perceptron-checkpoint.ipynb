{
 "cells": [
  {
   "cell_type": "markdown",
   "metadata": {},
   "source": [
    "# 単純パーセプトロン\n",
    "\n",
    "単純パーセプトロンについてnumpyを用いて実装、確認していきます。"
   ]
  },
  {
   "cell_type": "code",
   "execution_count": 1,
   "metadata": {},
   "outputs": [],
   "source": [
    "import numpy as np\n",
    "import matplotlib.pyplot as plt\n",
    "%matplotlib inline"
   ]
  },
  {
   "cell_type": "markdown",
   "metadata": {},
   "source": [
    "単純パーセプトロンとは $D$ 個の入力に対し、各入力をそれぞれ重み付け、足し合わせた値がある閾値を超えたかどうかを判別し、超えていたら1を、そうでないなら0を返すニューラルネットワークを考える上で用いられる最も簡単なモデルの一つです。このモデルに対し、適切な重みと閾値を設定することによって入力データを２つのクラスに分類することができます。\n",
    "\n",
    "<img src=\"figs/perceptron.png\" width=\"500\">\n",
    "\n",
    "この動作はちょうど、受け取った信号がある閾値を超えると発火し、また次の層へ信号を発するニューロンの仕組みに対応しています。\n",
    "\n",
    "ここで$n$次元のベクトルで表される入力を ${\\bf x} (x_1, x_2, ... , x_D)$ \n",
    "\n",
    "入力に対する重みを ${\\bf w}(w_1, w_2, ... , w_D)$\n",
    "\n",
    "閾値を$\\theta$\n",
    "\n",
    "出力$\\{0, 1\\}$を$y$    とすると上記の文章は次の式に変形することができます。\n",
    "\n",
    "$$\n",
    "y=\n",
    "  \\begin{cases}\n",
    "     1\\quad(w_1x_1+w_2x_2+\\cdots+w_D x_D\\geq\\theta)\\\\\n",
    "     0\\quad(w_1x_1+w_2x_2+\\cdots+w_D x_D<\\theta)\n",
    "  \\end{cases}\n",
    "$$\n",
    "また  $$\n",
    "f(x)=\n",
    "  \\begin{cases}\n",
    "     1\\quad(x\\geq0)\\\\\n",
    "     0\\quad(x<1)\n",
    "  \\end{cases}\n",
    "$$\n",
    "で定義される関数$f(x)$を用いることで\n",
    "$$\n",
    "y=f(w_1x_1+w_2x_2+\\cdots+w_D x_D-\\theta)\n",
    "$$\n",
    "\n",
    "と表すことができます。この$f(x)$のことを **ステップ関数** と呼びます。\n",
    "\n",
    "さらに表記を簡略化するためにベクトル表記すれば\n",
    "$$\n",
    "y=f({\\bf w}^T {\\bf x}-\\theta)\n",
    "$$\n",
    "となります。\n",
    "***"
   ]
  },
  {
   "cell_type": "markdown",
   "metadata": {},
   "source": [
    "\n",
    "\n",
    "\n",
    "これからは分類の話に移ります。入力ベクトルとそのベクトルがどちらのクラスであるかの組の集合である教師データを学習し\n",
    "未知の入力が来たときにそれがどちらのクラスに属するのかを判別することがこの分類機に求められる動作ですが\n",
    "ここでは2つのクラスに属する全てのデータ点がそれぞれ完全に線形関数で分離することが可能なデータについて考えます。\n",
    "\n",
    "すると次のアルゴリズムを使用することでデータを完全に分離できる重みベクトル  ${\\bf w}$  を求めることができます。\n",
    "\n",
    "入力  ${\\bf x}_i$  に対して、モデルが出力するクラスを  $t_i$ 、実際のクラスを  $y_i$  と表します。\n",
    "\n",
    "初期値 <br>$i=0$<br>$w_j(j=1, 2, ... , D)$は分散1平均0の正規分布からそれぞれ抽出<br>${\\theta}=0$\n",
    "\n",
    "- 全ての予測と実際のクラスが合致するまで次を繰り返す<br>\n",
    "    - ある　i　に対して$t_i\\neq y_i$なら次を実行し${\\bf w}$を更新<br>\n",
    "        - ${\\bf w} = {\\bf w}-(y-t){\\bf x}$\n",
    "        - $b = b - (y-t)$\n",
    "        \n",
    "このアルゴリズムのことを誤り訂正学習方と呼びます。誤り訂正学習法では出力が大きすぎるときには重みと入力の積を小さく閾値を大きくし、逆の場合は重みと入力の積を大きく閾値を小さくしていくことで完全に要素を分離できる決定面を探します。ただし仮定として互いのクラスが特徴量の線形結合で表される決定面で完全に分離可能でなくてはなりません。\n",
    "<br>\n",
    "<br>\n",
    "<br>"
   ]
  },
  {
   "cell_type": "code",
   "execution_count": 30,
   "metadata": {},
   "outputs": [],
   "source": [
    "class SimplePerceptron(object):\n",
    "    def __init__(self, input_dim):\n",
    "        self.input_dim = input_dim\n",
    "        self.w = np.random.normal(size=(input_dim, ))\n",
    "        self.b = 0\n",
    "    \n",
    "    def forward(self, x):\n",
    "        y = self.step(np.matmul(self.w.T, x) + self.b)\n",
    "        return y\n",
    "    \n",
    "    def compute_deltas(self, x, t):\n",
    "        y = self.forward(x)\n",
    "        delta = y-t\n",
    "        dw = delta*x\n",
    "        db = delta\n",
    "        return dw, db\n",
    "    \n",
    "    def compute_loss(self, dw, db):\n",
    "        return all(dw == 0)*(db == 0)\n",
    "    \n",
    "    def train_step(self, x, t):\n",
    "        dw, db = self.compute_deltas(x, t)\n",
    "        loss = self.compute_loss(dw, db)\n",
    "        self.w = self.w - dw\n",
    "        self.b = self.b - db\n",
    "        return loss\n",
    "    \n",
    "    def search(self, x, t):\n",
    "        while True:\n",
    "            classified = True\n",
    "            for i in range(len(x)):\n",
    "                loss = self.train_step(x[i], t[i])\n",
    "                classified *= loss\n",
    "            if classified:\n",
    "                break\n",
    "                \n",
    "    def step(self, x):\n",
    "        return 1 * (x>0)"
   ]
  },
  {
   "cell_type": "markdown",
   "metadata": {},
   "source": [
    "```python\n",
    "class SimplePerceptron(object):\n",
    "```\n",
    "- 単純パーセプトロンを行うためのクラス\n",
    "***\n",
    "```python\n",
    "def __init__(self, input_dim):\n",
    "```\n",
    "- インスタンス生成時の初期値を決定する。\n",
    "- 何回やっても極所解に到達してしまうという事態を避けるために${\\bf w}$の各要素((input_dim)個）は正規分布に従いランダムになるようにしておく\n",
    "***\n",
    "```python\n",
    "def forward(self, x):\n",
    "```\n",
    "- ある入力に対する予想クラスを返す関数\n",
    "***\n",
    "```python\n",
    "def compute_deltas(self, x, t):\n",
    "```\n",
    "- 学習データに対して現在の予測クラスと正解クラスが合っているかを確認し、その誤差を返す関数\n",
    "***\n",
    "```python\n",
    "def compute_loss(dw, db):\n",
    "```\n",
    "- 各データに対してパラメータの更新をする必要が有るかどうかを返す関数\n",
    "***\n",
    "```python\n",
    "def train_step(self, x, t):\n",
    "```\n",
    "- 各データに対してパラメータの更新を実際に行う関数\n",
    "***\n",
    "```python\n",
    "def search(self, x, t):\n",
    "```\n",
    "- 与えられる全データに対して正しく分類できるようなパラメータを探索する関数"
   ]
  },
  {
   "cell_type": "code",
   "execution_count": 31,
   "metadata": {},
   "outputs": [],
   "source": [
    "np.random.seed(123) #乱数シード\n",
    "'''\n",
    "1.データの準備\n",
    "'''\n",
    "d = 2 #データの次元\n",
    "N = 20 #データ数\n",
    "mean = 5\n",
    "\n",
    "x1 = np.random.randn(N//2, d)+np.array([0, 0])\n",
    "x2 = np.random.randn(N//2, d)+np.array([mean, mean])\n",
    "\n",
    "t1 = np.zeros(N//2)\n",
    "t2 = np.ones(N//2)\n",
    "\n",
    "x = np.concatenate((x1, x2), axis=0) #入力データ\n",
    "t = np.concatenate((t1, t2))                #出力データ"
   ]
  },
  {
   "cell_type": "code",
   "execution_count": 32,
   "metadata": {},
   "outputs": [],
   "source": [
    "'''\n",
    "2.モデルの構築\n",
    "'''\n",
    "model = SimplePerceptron(input_dim=d)"
   ]
  },
  {
   "cell_type": "code",
   "execution_count": 33,
   "metadata": {},
   "outputs": [],
   "source": [
    "'''\n",
    "3.モデルの学習\n",
    "'''\n",
    "model.search(x, t)"
   ]
  },
  {
   "cell_type": "code",
   "execution_count": 34,
   "metadata": {},
   "outputs": [
    {
     "name": "stdout",
     "output_type": "stream",
     "text": [
      "w:  [2.22951939 2.96727454]\n",
      "b :  -13.0\n",
      "(0, 0) ->  0\n",
      "(5, 5) ->  1\n"
     ]
    },
    {
     "data": {
      "image/png": "[encoded data removed]",
      "text/plain": [
       "<Figure size 432x288 with 1 Axes>"
      ]
     },
     "metadata": {
      "needs_background": "light"
     },
     "output_type": "display_data"
    }
   ],
   "source": [
    "'''\n",
    "4.モデルの評価\n",
    "'''\n",
    "print('w: ', model.w)\n",
    "print('b : ', model.b)\n",
    "print('(0, 0) -> ', model.forward([0, 0]))\n",
    "print('(5, 5) -> ', model.forward([5, 5]))\n",
    "x1_ =np.linspace(-2, 7, 90)\n",
    "x2_ = (-model.b-model.w[0]*x1_) / model.w[1]\n",
    "plt.plot(x1_, x2_)\n",
    "plt.scatter(x1[:, 0],x1[:, 1],marker='.')\n",
    "plt.scatter(x2[:, 0],x2[:, 1],marker='^')\n",
    "plt.show()"
   ]
  }
 ],
 "metadata": {
  "kernelspec": {
   "display_name": "Python 3",
   "language": "python",
   "name": "python3"
  },
  "language_info": {
   "codemirror_mode": {
    "name": "ipython",
    "version": 3
   },
   "file_extension": ".py",
   "mimetype": "text/x-python",
   "name": "python",
   "nbconvert_exporter": "python",
   "pygments_lexer": "ipython3",
   "version": "3.7.3"
  }
 },
 "nbformat": 4,
 "nbformat_minor": 2
}
