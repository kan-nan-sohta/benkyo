{
 "cells": [
  {
   "cell_type": "code",
   "execution_count": 7,
   "metadata": {},
   "outputs": [],
   "source": [
    "import numpy as np\n",
    "import matplotlib.pyplot as plt\n",
    "%matplotlib inline"
   ]
  },
  {
   "cell_type": "code",
   "execution_count": 8,
   "metadata": {},
   "outputs": [],
   "source": [
    "class MLP(object):\n",
    "    \n",
    "    def __init__(self, input_dim, hidden_dim, output_dim):\n",
    "        self.l1 = Layer(input_dim     = input_dim,\n",
    "                                   output_dim = hidden_dim,\n",
    "                                   activation    = self.sigmoid,\n",
    "                                   dactivation     = self.dsigmoid)\n",
    "        self.l2 = Layer(input_dim     = hidden_dim,\n",
    "                                   output_dim = output_dim,\n",
    "                                   activation    = self.sigmoid,\n",
    "                                   dactivation     = self.dsigmoid)\n",
    "        self.layers = [self.l1, self.l2]\n",
    "        \n",
    "    def __call__(self, x):\n",
    "        return self.forward(x)\n",
    "        \n",
    "    def forward(self, x):\n",
    "        h = self.l1(x)\n",
    "        y = self.l2(h)\n",
    "        return y\n",
    "    \n",
    "    def sigmoid(self, x):\n",
    "        return 1 / (1+np.exp(-x))\n",
    "    \n",
    "    def dsigmoid(self, x):\n",
    "        return self.sigmoid(x) * (1- self.sigmoid(x))\n",
    "    \n",
    "    def compute_loss(self, t, y):\n",
    "         return (-t * np.log(y) - (1-t) * np.log(1-y)).sum()\n",
    "        \n",
    "    def train_step(self, x, t):\n",
    "        y = self(x)\n",
    "        \n",
    "        for i, layer in enumerate(self.layers[::-1]):\n",
    "            if i == 0:\n",
    "                delta = y-t\n",
    "            else:\n",
    "                delta = layer.backward(delta, W)\n",
    "        \n",
    "            dW, db = layer.compute_gradients(delta)\n",
    "            layer.W = layer.W - 0.1 * dW\n",
    "            layer.b = layer.b - 0.1 * db\n",
    "        \n",
    "            W = layer.W\n",
    "        loss = self.compute_loss(t, y)\n",
    "        return loss\n",
    "        "
   ]
  },
  {
   "cell_type": "code",
   "execution_count": 9,
   "metadata": {},
   "outputs": [],
   "source": [
    "class Layer(object):\n",
    "    def __init__(self, input_dim, output_dim, activation, dactivation):\n",
    "        self.W = np.random.normal(size=(input_dim, output_dim))\n",
    "        self.b = np.zeros(output_dim)\n",
    "        \n",
    "        self.activation = activation\n",
    "        self.dactivation = dactivation\n",
    "    \n",
    "    def __call__(self, x):\n",
    "        return self.forward(x)\n",
    "    \n",
    "    def forward(self, x):\n",
    "        self._input = x\n",
    "        self._pre_activation = np.matmul(x, self.W) + self.b\n",
    "        return self.activation(self._pre_activation)\n",
    "    \n",
    "    def backward(self, delta, W):\n",
    "        delta = self.dactivation(self._pre_activation) * np.matmul(delta, W.T)\n",
    "        return delta\n",
    "    \n",
    "    def compute_gradients(self, delta):\n",
    "        dW = np.matmul(self._input.T, delta)\n",
    "        db = np.matmul(np.ones(self._input.shape[0]), delta)\n",
    "        return dW, db"
   ]
  },
  {
   "cell_type": "code",
   "execution_count": 10,
   "metadata": {},
   "outputs": [],
   "source": [
    "x = np.array([[0,0], [0,1], [1,0], [1,1]])\n",
    "t = np.array([[0], [1], [1], [0]])"
   ]
  },
  {
   "cell_type": "code",
   "execution_count": 11,
   "metadata": {},
   "outputs": [],
   "source": [
    "model = MLP(2, 3, 1)"
   ]
  },
  {
   "cell_type": "code",
   "execution_count": 12,
   "metadata": {},
   "outputs": [
    {
     "name": "stdout",
     "output_type": "stream",
     "text": [
      "epoch:1, loss:2.783\n",
      "epoch:101, loss:2.319\n",
      "epoch:201, loss:1.741\n",
      "epoch:301, loss:1.076\n",
      "epoch:401, loss:0.650\n",
      "epoch:501, loss:0.430\n",
      "epoch:601, loss:0.312\n",
      "epoch:701, loss:0.240\n",
      "epoch:801, loss:0.194\n",
      "epoch:901, loss:0.162\n",
      "epoch:1000, loss:0.139\n"
     ]
    }
   ],
   "source": [
    "epochs = 1000\n",
    "\n",
    "for epoch in range(epochs):\n",
    "    train_loss = model.train_step(x, t)\n",
    "    if epoch % 100 == 0 or epoch == epochs-1:\n",
    "        print('epoch:{}, loss:{:.3f}'.format(epoch+1, train_loss))"
   ]
  },
  {
   "cell_type": "code",
   "execution_count": 13,
   "metadata": {},
   "outputs": [
    {
     "name": "stdout",
     "output_type": "stream",
     "text": [
      "[0 0] => 0.011\n",
      "[0 1] => 0.966\n",
      "[1 0] => 0.964\n",
      "[1 1] => 0.055\n"
     ]
    }
   ],
   "source": [
    "for input in x:\n",
    "    print('{} => {:.3f}'.format(input, model(input)[0]))"
   ]
  },
  {
   "cell_type": "code",
   "execution_count": 14,
   "metadata": {},
   "outputs": [
    {
     "data": {
      "image/png": "[encoded data removed]",
      "text/plain": [
       "<Figure size 432x288 with 1 Axes>"
      ]
     },
     "metadata": {
      "needs_background": "light"
     },
     "output_type": "display_data"
    }
   ],
   "source": [
    "plt.scatter(x[3, 0],x[3, 1],marker='^', color='r')\n",
    "plt.scatter(x[2, 0],x[2, 1],marker='.', color='b')\n",
    "plt.scatter(x[1, 0],x[1, 1],marker='.', color='b')\n",
    "plt.scatter(x[0, 0],x[0, 1],marker='^', color='r')\n",
    "for i in range(40):\n",
    "    for j in range(40):\n",
    "        x_ = np.array([(i-10)*0.05, (j-10)*0.05])\n",
    "        if model(x_) > 0.5:\n",
    "            plt.fill([x_[0], x_[0], x_[0]+0.05, x_[0]+0.05], [x_[1], x_[1]+0.05, x_[1]+0.05, x_[1]],color=\"y\",alpha=0.2)\n",
    "        else:\n",
    "             plt.fill([x_[0], x_[0], x_[0]+0.05, x_[0]+0.05], [x_[1], x_[1]+0.05, x_[1]+0.05, x_[1]],color=\"g\",alpha=0.2)\n",
    "plt.show()"
   ]
  },
  {
   "cell_type": "code",
   "execution_count": null,
   "metadata": {},
   "outputs": [],
   "source": []
  }
 ],
 "metadata": {
  "kernelspec": {
   "display_name": "Python 3",
   "language": "python",
   "name": "python3"
  },
  "language_info": {
   "codemirror_mode": {
    "name": "ipython",
    "version": 3
   },
   "file_extension": ".py",
   "mimetype": "text/x-python",
   "name": "python",
   "nbconvert_exporter": "python",
   "pygments_lexer": "ipython3",
   "version": "3.7.3"
  }
 },
 "nbformat": 4,
 "nbformat_minor": 2
}
