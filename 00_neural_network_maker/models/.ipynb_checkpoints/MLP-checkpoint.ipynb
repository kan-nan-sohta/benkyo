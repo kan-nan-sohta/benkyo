{
 "cells": [
  {
   "cell_type": "code",
   "execution_count": 1,
   "metadata": {},
   "outputs": [],
   "source": [
    "import numpy as np"
   ]
  },
  {
   "cell_type": "code",
   "execution_count": 2,
   "metadata": {},
   "outputs": [],
   "source": [
    "class MLP(object):\n",
    "    \n",
    "    def __init__(self, input_dim, hidden_dim, output_dim):\n",
    "        self.l1 = Layer(input_dim     = input_dim,\n",
    "                                   output_dim = hidden_dim,\n",
    "                                   activation    = self.sigmoid,\n",
    "                                   dactivation     = self.dsigmoid)\n",
    "        self.l2 = Layer(input_dim     = hidden_dim,\n",
    "                                   output_dim = output_dim,\n",
    "                                   activation    = self.sigmoid,\n",
    "                                   dactivation     = self.dsigmoid)\n",
    "        self.layers = [self.l1, self.l2]\n",
    "        \n",
    "    def __call__(self, x):\n",
    "        return self.forward(x)\n",
    "        \n",
    "    def forward(self, x):\n",
    "        h = self.l1(x)\n",
    "        y = self.l2(h)\n",
    "        return y\n",
    "    \n",
    "    def sigmoid(self, x):\n",
    "        return 1 / (1+np.exp(-x))\n",
    "    \n",
    "    def dsigmoid(self, x):\n",
    "        return self.sigmoid(x) * (1- self.sigmoid(x))\n",
    "    \n",
    "    def compute_loss(self, t, y):\n",
    "         return (-t * np.log(y) - (1-t) * np.log(1-y)).sum()\n",
    "        \n",
    "    def train_step(self, x, t):\n",
    "        y = self(x)\n",
    "        \n",
    "        for i, layer in enumerate(self.layers[::-1]):\n",
    "            if i == 0:\n",
    "                delta = y-t\n",
    "            else:\n",
    "                delta = layer.backward(delta, W)\n",
    "        \n",
    "            dW, db = layer.compute_gradients(delta)\n",
    "            layer.W = layer.W - 0.1 * dW\n",
    "            layer.b = layer.b - 0.1 * db\n",
    "        \n",
    "            W = layer.W\n",
    "        loss = self.compute_loss(t, y)\n",
    "        return loss"
   ]
  },
  {
   "cell_type": "code",
   "execution_count": 3,
   "metadata": {},
   "outputs": [],
   "source": [
    "class Layer(object):\n",
    "    def __init__(self, input_dim, output_dim, activation, dactivation):\n",
    "        self.W = np.random.normal(size=(input_dim, output_dim))\n",
    "        self.b = np.zeros(output_dim)\n",
    "        \n",
    "        self.activation = activation\n",
    "        self.dactivation = dactivation\n",
    "    \n",
    "    def __call__(self, x):\n",
    "        return self.forward(x)\n",
    "    \n",
    "    def forward(self, x):\n",
    "        self._input = x\n",
    "        self._pre_activation = np.matmul(x, self.W) + self.b\n",
    "        return self.activation(self._pre_activation)\n",
    "    \n",
    "    def backward(self, delta, W):\n",
    "        delta = self.dactivation(self._pre_activation) * np.matmul(delta, W.T)\n",
    "        return delta\n",
    "    \n",
    "    def compute_gradients(self, delta):\n",
    "        dW = np.matmul(self._input.T, delta)\n",
    "        db = np.matmul(np.ones(self._input.shape[0]), delta)\n",
    "        return dW, db"
   ]
  },
  {
   "cell_type": "code",
   "execution_count": null,
   "metadata": {},
   "outputs": [],
   "source": []
  }
 ],
 "metadata": {
  "kernelspec": {
   "display_name": "Python 3",
   "language": "python",
   "name": "python3"
  },
  "language_info": {
   "codemirror_mode": {
    "name": "ipython",
    "version": 3
   },
   "file_extension": ".py",
   "mimetype": "text/x-python",
   "name": "python",
   "nbconvert_exporter": "python",
   "pygments_lexer": "ipython3",
   "version": "3.7.3"
  }
 },
 "nbformat": 4,
 "nbformat_minor": 2
}
