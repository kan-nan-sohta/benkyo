{
 "cells": [
  {
   "cell_type": "code",
   "execution_count": 10,
   "metadata": {},
   "outputs": [],
   "source": [
    "import numpy as np\n",
    "from sklearn import datasets\n",
    "from sklearn.utils import shuffle\n",
    "from sklearn.model_selection import train_test_split\n",
    "from sklearn.metrics import accuracy_score\n",
    "import torch\n",
    "import torch.nn as nn\n",
    "import torch.optim as optimizers\n",
    "import matplotlib.pyplot as plt\n",
    "%matplotlib inline"
   ]
  },
  {
   "cell_type": "code",
   "execution_count": 11,
   "metadata": {},
   "outputs": [],
   "source": [
    "np.random.seed(0)\n",
    "torch.manual_seed(0)\n",
    "device = torch.device('cuda:0' if torch.cuda.is_available() else 'cpu')"
   ]
  },
  {
   "cell_type": "code",
   "execution_count": 12,
   "metadata": {},
   "outputs": [],
   "source": [
    "N = 3000\n",
    "x, t = datasets.make_moons(N, noise = 0.3)\n",
    "t = t.reshape(N, 1)\n",
    "x_train, x_test, t_train, t_test = train_test_split(x, t, test_size = 0.2)"
   ]
  },
  {
   "cell_type": "code",
   "execution_count": 13,
   "metadata": {},
   "outputs": [],
   "source": [
    "class MLP(nn.Module):\n",
    "    def __init__(self, input_dim, hidden_dim, output_dim):\n",
    "        super().__init__()\n",
    "        self.l1 = nn.Linear(input_dim, hidden_dim)\n",
    "        self.a1 = nn.Sigmoid()\n",
    "        self.l2 = nn.Linear(hidden_dim, output_dim)\n",
    "        self.a2 = nn.Sigmoid()\n",
    "        \n",
    "        self.layers = [self.l1, self.a1, self.l2, self.a2]\n",
    "        \n",
    "    def forward(self, x):\n",
    "        for layer in self.layers:\n",
    "            x = layer(x)\n",
    "        \n",
    "        return x"
   ]
  },
  {
   "cell_type": "code",
   "execution_count": 14,
   "metadata": {},
   "outputs": [],
   "source": [
    "model = MLP(2, 3, 1).to(device)"
   ]
  },
  {
   "cell_type": "code",
   "execution_count": 15,
   "metadata": {},
   "outputs": [],
   "source": [
    "criterion = nn.BCELoss()\n",
    "optimizer = optimizers.SGD(model.parameters(), lr = 0.1)\n",
    "\n",
    "def compute_loss(t, y):\n",
    "    return criterion(y, t)\n",
    "\n",
    "def train_step(x, t):\n",
    "    model.train()                              #学習モードへ移行 model.eval()で評価モード\n",
    "    preds = model(x)\n",
    "    loss = compute_loss(t, preds)\n",
    "    optimizer.zero_grad()              #勾配初期化\n",
    "    loss.backward()                         #勾配計算\n",
    "    optimizer.step()                         #パラメータ更新\n",
    "    return loss"
   ]
  },
  {
   "cell_type": "code",
   "execution_count": 16,
   "metadata": {},
   "outputs": [
    {
     "name": "stdout",
     "output_type": "stream",
     "text": [
      "epoch:1, loss26.3\n",
      "epoch:2, loss25.0\n",
      "epoch:3, loss24.2\n",
      "epoch:4, loss23.3\n",
      "epoch:5, loss22.4\n",
      "epoch:6, loss21.4\n",
      "epoch:7, loss20.4\n",
      "epoch:8, loss19.2\n",
      "epoch:9, loss18.1\n",
      "epoch:10, loss17.0\n",
      "epoch:11, loss15.9\n",
      "epoch:12, loss14.7\n",
      "epoch:13, loss13.7\n",
      "epoch:14, loss12.8\n",
      "epoch:15, loss11.8\n",
      "epoch:16, loss11.1\n",
      "epoch:17, loss10.1\n",
      "epoch:18, loss9.45\n",
      "epoch:19, loss8.78\n",
      "epoch:20, loss8.26\n",
      "epoch:21, loss7.61\n",
      "epoch:22, loss6.93\n",
      "epoch:23, loss6.72\n",
      "epoch:24, loss5.87\n",
      "epoch:25, loss5.68\n",
      "epoch:26, loss5.11\n",
      "epoch:27, loss4.88\n",
      "epoch:28, loss4.26\n",
      "epoch:29, loss3.75\n",
      "epoch:30, loss3.43\n",
      "epoch:31, loss2.73\n",
      "epoch:32, loss2.55\n",
      "epoch:33, loss2.08\n",
      "epoch:34, loss1.62\n",
      "epoch:35, loss1.32\n",
      "epoch:36, loss0.843\n",
      "epoch:37, loss0.456\n",
      "epoch:38, loss0.0\n",
      "epoch:39, loss0.0\n",
      "epoch:40, loss0.0\n",
      "epoch:41, loss0.0\n",
      "epoch:42, loss0.0\n",
      "epoch:43, loss0.0\n",
      "epoch:44, loss0.0\n",
      "epoch:45, loss0.0\n",
      "epoch:46, loss0.0\n",
      "epoch:47, loss0.0\n",
      "epoch:48, loss0.0\n",
      "epoch:49, loss0.0\n",
      "epoch:50, loss0.0\n",
      "epoch:51, loss0.0\n",
      "epoch:52, loss0.0\n",
      "epoch:53, loss0.0\n",
      "epoch:54, loss0.0\n",
      "epoch:55, loss0.0\n",
      "epoch:56, loss0.0\n",
      "epoch:57, loss0.0\n",
      "epoch:58, loss0.0\n",
      "epoch:59, loss0.0\n",
      "epoch:60, loss0.0\n",
      "epoch:61, loss0.0\n",
      "epoch:62, loss0.0\n",
      "epoch:63, loss0.0\n",
      "epoch:64, loss0.0\n",
      "epoch:65, loss0.0\n",
      "epoch:66, loss0.0\n",
      "epoch:67, loss0.0\n",
      "epoch:68, loss0.0\n",
      "epoch:69, loss0.0\n",
      "epoch:70, loss0.0\n",
      "epoch:71, loss0.0\n",
      "epoch:72, loss0.0\n",
      "epoch:73, loss0.0\n",
      "epoch:74, loss0.0\n",
      "epoch:75, loss0.0\n",
      "epoch:76, loss0.0\n",
      "epoch:77, loss0.0\n",
      "epoch:78, loss0.0\n",
      "epoch:79, loss0.0\n",
      "epoch:80, loss0.0\n",
      "epoch:81, loss0.0\n",
      "epoch:82, loss0.0\n",
      "epoch:83, loss0.0\n",
      "epoch:84, loss0.0\n",
      "epoch:85, loss0.0\n",
      "epoch:86, loss0.0\n",
      "epoch:87, loss0.0\n",
      "epoch:88, loss0.0\n",
      "epoch:89, loss0.0\n",
      "epoch:90, loss0.0\n",
      "epoch:91, loss0.0\n",
      "epoch:92, loss0.0\n",
      "epoch:93, loss0.0\n",
      "epoch:94, loss0.0\n",
      "epoch:95, loss0.0\n",
      "epoch:96, loss0.0\n",
      "epoch:97, loss0.0\n",
      "epoch:98, loss0.0\n",
      "epoch:99, loss0.0\n",
      "epoch:100, loss0.0\n"
     ]
    }
   ],
   "source": [
    "epochs = 100\n",
    "batch_size = 64\n",
    "n_batches = x_train.shape[0] // batch_size\n",
    "for epoch in range(epochs):\n",
    "    train_loss = 0.\n",
    "    x_, t_ = shuffle(x_train, t_train)\n",
    "    x_ = torch.Tensor(x_).to(device)\n",
    "    t_ = torch.Tensor(t_).to(device)\n",
    "    for n_batches in range(n_batches):\n",
    "        start = n_batches * batch_size\n",
    "        end = start + batch_size\n",
    "        loss = train_step(x_[start:end], t_[start:end])\n",
    "        train_loss += loss.item()\n",
    "    \n",
    "    print('epoch:{}, loss{:.3}'.format(epoch+1, train_loss))"
   ]
  },
  {
   "cell_type": "code",
   "execution_count": 17,
   "metadata": {},
   "outputs": [
    {
     "name": "stdout",
     "output_type": "stream",
     "text": [
      "test_loss0.388, test_acc:0.842\n"
     ]
    }
   ],
   "source": [
    "def test_step(x, t):\n",
    "    x = torch.Tensor(x).to(device)\n",
    "    t = torch.Tensor(t).to(device)\n",
    "    model.eval()\n",
    "    preds = model(x)\n",
    "    loss = compute_loss(t, preds)\n",
    "    return loss, preds\n",
    "\n",
    "loss, preds = test_step(x_test, t_test)\n",
    "test_loss = loss.item()\n",
    "preds = preds.data.cpu().numpy()>0.5\n",
    "test_acc = accuracy_score(t_test, preds)\n",
    "\n",
    "print('test_loss{:.3f}, test_acc:{:.3f}'. format(test_loss, test_acc))"
   ]
  },
  {
   "cell_type": "code",
   "execution_count": 18,
   "metadata": {},
   "outputs": [
    {
     "data": {
      "image/png": "[encoded data removed]",
      "text/plain": [
       "<Figure size 432x288 with 1 Axes>"
      ]
     },
     "metadata": {
      "needs_background": "light"
     },
     "output_type": "display_data"
    }
   ],
   "source": [
    "for i in range(120):\n",
    "    for j in range(120):\n",
    "        x_ = np.array([[(i-60)*0.05, (j-60)*0.05]])\n",
    "        x_ = torch.Tensor(x_).to(device)\n",
    "        m = model(x_)\n",
    "        if m[0, 0] > 0.5:\n",
    "            plt.fill([x_[0, 0], x_[0, 0], x_[0, 0]+0.05, x_[0, 0]+0.05], [x_[0, 1], x_[0, 1]+0.05, x_[0, 1]+0.05, x_[0, 1]],color=\"y\",alpha=0.2)\n",
    "        else:\n",
    "             plt.fill([x_[0, 0], x_[0, 0], x_[0, 0]+0.05, x_[0, 0]+0.05], [x_[0, 1], x_[0, 1]+0.05, x_[0, 1]+0.05, x_[0, 1]],color=\"g\",alpha=0.2)\n",
    "\n",
    "plt.scatter(x_test[:, 0], x_test[:, 1], c=t_test.T[0])\n",
    "plt.show()"
   ]
  },
  {
   "cell_type": "code",
   "execution_count": null,
   "metadata": {},
   "outputs": [],
   "source": []
  }
 ],
 "metadata": {
  "kernelspec": {
   "display_name": "Python 3",
   "language": "python",
   "name": "python3"
  },
  "language_info": {
   "codemirror_mode": {
    "name": "ipython",
    "version": 3
   },
   "file_extension": ".py",
   "mimetype": "text/x-python",
   "name": "python",
   "nbconvert_exporter": "python",
   "pygments_lexer": "ipython3",
   "version": "3.7.6"
  }
 },
 "nbformat": 4,
 "nbformat_minor": 2
}
