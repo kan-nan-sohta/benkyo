{
 "cells": [
  {
   "cell_type": "code",
   "execution_count": 1,
   "metadata": {},
   "outputs": [],
   "source": [
    "import numpy as np\n",
    "import tensorflow as tf\n",
    "from tensorflow.keras import datasets\n",
    "from tensorflow.keras.models import Sequential\n",
    "from tensorflow.keras.layers import Dense"
   ]
  },
  {
   "cell_type": "code",
   "execution_count": 2,
   "metadata": {},
   "outputs": [
    {
     "name": "stdout",
     "output_type": "stream",
     "text": [
      "Downloading data from https://storage.googleapis.com/tensorflow/tf-keras-datasets/mnist.npz\n",
      "11493376/11490434 [==============================] - 2s 0us/step\n"
     ]
    }
   ],
   "source": [
    "np.random.seed(123)\n",
    "tf.random.set_seed(123)\n",
    "\n",
    "mnist=datasets.mnist\n",
    "(x_train, t_train), (x_test, t_test) = mnist.load_data()\n",
    "\n",
    "x_train = (x_train.reshape(-1, 784)/255).astype(np.float32)\n",
    "x_test  = (x_test.reshape(-1, 784)/255).astype(np.float32)\n",
    "t_train = np.eye(10)[t_train].astype(np.float32)\n",
    "t_test  = np.eye(10)[t_test].astype(np.float32)"
   ]
  },
  {
   "cell_type": "code",
   "execution_count": 3,
   "metadata": {},
   "outputs": [],
   "source": [
    "model = Sequential()\n",
    "model.add(Dense(200, activation = 'sigmoid'))\n",
    "model.add(Dense(200, activation = 'sigmoid'))\n",
    "model.add(Dense(200, activation = 'sigmoid'))\n",
    "model.add(Dense(10,  activation = 'softmax'))"
   ]
  },
  {
   "cell_type": "code",
   "execution_count": 4,
   "metadata": {},
   "outputs": [
    {
     "name": "stdout",
     "output_type": "stream",
     "text": [
      "Train on 60000 samples\n",
      "Epoch 1/30\n",
      "60000/60000 - 6s - loss: 2.3080 - accuracy: 0.1138\n",
      "Epoch 2/30\n",
      "60000/60000 - 2s - loss: 2.2953 - accuracy: 0.1214\n",
      "Epoch 3/30\n",
      "60000/60000 - 2s - loss: 2.2906 - accuracy: 0.1381\n",
      "Epoch 4/30\n",
      "60000/60000 - 2s - loss: 2.2851 - accuracy: 0.1526\n",
      "Epoch 5/30\n",
      "60000/60000 - 2s - loss: 2.2785 - accuracy: 0.1645\n",
      "Epoch 6/30\n",
      "60000/60000 - 2s - loss: 2.2700 - accuracy: 0.1989\n",
      "Epoch 7/30\n",
      "60000/60000 - 2s - loss: 2.2586 - accuracy: 0.2484\n",
      "Epoch 8/30\n",
      "60000/60000 - 2s - loss: 2.2427 - accuracy: 0.2923\n",
      "Epoch 9/30\n",
      "60000/60000 - 2s - loss: 2.2189 - accuracy: 0.3279\n",
      "Epoch 10/30\n",
      "60000/60000 - 2s - loss: 2.1811 - accuracy: 0.3790\n",
      "Epoch 11/30\n",
      "60000/60000 - 2s - loss: 2.1186 - accuracy: 0.4105\n",
      "Epoch 12/30\n",
      "60000/60000 - 2s - loss: 2.0166 - accuracy: 0.4404\n",
      "Epoch 13/30\n",
      "60000/60000 - 2s - loss: 1.8729 - accuracy: 0.4888\n",
      "Epoch 14/30\n",
      "60000/60000 - 2s - loss: 1.7060 - accuracy: 0.5291\n",
      "Epoch 15/30\n",
      "60000/60000 - 2s - loss: 1.5344 - accuracy: 0.5708\n",
      "Epoch 16/30\n",
      "60000/60000 - 2s - loss: 1.3725 - accuracy: 0.6091\n",
      "Epoch 17/30\n",
      "60000/60000 - 2s - loss: 1.2297 - accuracy: 0.6399\n",
      "Epoch 18/30\n",
      "60000/60000 - 2s - loss: 1.1093 - accuracy: 0.6633\n",
      "Epoch 19/30\n",
      "60000/60000 - 2s - loss: 1.0126 - accuracy: 0.6855\n",
      "Epoch 20/30\n",
      "60000/60000 - 2s - loss: 0.9380 - accuracy: 0.7064\n",
      "Epoch 21/30\n",
      "60000/60000 - 2s - loss: 0.8810 - accuracy: 0.7208\n",
      "Epoch 22/30\n",
      "60000/60000 - 2s - loss: 0.8364 - accuracy: 0.7363\n",
      "Epoch 23/30\n",
      "60000/60000 - 2s - loss: 0.8002 - accuracy: 0.7478\n",
      "Epoch 24/30\n",
      "60000/60000 - 2s - loss: 0.7693 - accuracy: 0.7595\n",
      "Epoch 25/30\n",
      "60000/60000 - 2s - loss: 0.7422 - accuracy: 0.7691\n",
      "Epoch 26/30\n",
      "60000/60000 - 2s - loss: 0.7179 - accuracy: 0.7793\n",
      "Epoch 27/30\n",
      "60000/60000 - 2s - loss: 0.6954 - accuracy: 0.7881\n",
      "Epoch 28/30\n",
      "60000/60000 - 2s - loss: 0.6740 - accuracy: 0.7963\n",
      "Epoch 29/30\n",
      "60000/60000 - 2s - loss: 0.6535 - accuracy: 0.8049\n",
      "Epoch 30/30\n",
      "60000/60000 - 2s - loss: 0.6340 - accuracy: 0.8133\n"
     ]
    },
    {
     "data": {
      "text/plain": [
       "<tensorflow.python.keras.callbacks.History at 0x7f05d12a8e10>"
      ]
     },
     "execution_count": 4,
     "metadata": {},
     "output_type": "execute_result"
    }
   ],
   "source": [
    "model.compile(optimizer='sgd', loss='categorical_crossentropy', metrics=['accuracy'])\n",
    "model.fit(x_train, t_train, epochs = 30, batch_size = 100, verbose = 2)"
   ]
  },
  {
   "cell_type": "code",
   "execution_count": 6,
   "metadata": {},
   "outputs": [
    {
     "name": "stdout",
     "output_type": "stream",
     "text": [
      "test_loss:0.615, test_acc:0.820\n"
     ]
    }
   ],
   "source": [
    "loss, acc = model.evaluate(x_test, t_test, verbose=0)\n",
    "print('test_loss:{:.3f}, test_acc:{:.3f}'.format(loss, acc))"
   ]
  },
  {
   "cell_type": "code",
   "execution_count": null,
   "metadata": {},
   "outputs": [],
   "source": []
  }
 ],
 "metadata": {
  "kernelspec": {
   "display_name": "Python 3",
   "language": "python",
   "name": "python3"
  },
  "language_info": {
   "codemirror_mode": {
    "name": "ipython",
    "version": 3
   },
   "file_extension": ".py",
   "mimetype": "text/x-python",
   "name": "python",
   "nbconvert_exporter": "python",
   "pygments_lexer": "ipython3",
   "version": "3.7.6"
  }
 },
 "nbformat": 4,
 "nbformat_minor": 2
}
