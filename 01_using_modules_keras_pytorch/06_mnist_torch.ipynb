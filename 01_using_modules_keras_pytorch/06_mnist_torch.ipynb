{
 "cells": [
  {
   "cell_type": "code",
   "execution_count": 21,
   "metadata": {},
   "outputs": [],
   "source": [
    "import os\n",
    "import numpy as np\n",
    "from sklearn.metrics import accuracy_score\n",
    "import torch\n",
    "import torch.nn as nn\n",
    "import torch.optim as optimizers\n",
    "from torch.utils.data import DataLoader\n",
    "from torchvision import datasets\n",
    "import torchvision.transforms as transforms"
   ]
  },
  {
   "cell_type": "code",
   "execution_count": 22,
   "metadata": {},
   "outputs": [
    {
     "name": "stdout",
     "output_type": "stream",
     "text": [
      "cuda:0\n"
     ]
    }
   ],
   "source": [
    "np.random.seed(0)\n",
    "torch.manual_seed(0)\n",
    "device = torch.device('cuda:0' if torch.cuda.is_available() else 'cpu')\n",
    "print(device)"
   ]
  },
  {
   "cell_type": "code",
   "execution_count": 23,
   "metadata": {},
   "outputs": [],
   "source": [
    "class DNN(nn.Module):\n",
    "    def __init__(self, input_dim, hidden_dim, output_dim):\n",
    "        super().__init__()\n",
    "        self.l1 = nn.Linear(input_dim, hidden_dim)\n",
    "        self.a1 = nn.Sigmoid()\n",
    "        self.l2 = nn.Linear(hidden_dim, hidden_dim)\n",
    "        self.a2 = nn.Sigmoid()\n",
    "        self.l3 = nn.Linear(hidden_dim, hidden_dim)\n",
    "        self.a3 = nn.Sigmoid()\n",
    "        self.l4 = nn.Linear(hidden_dim, output_dim)\n",
    "        \n",
    "        self.layers = [self.l1, self.a1,\n",
    "                       self.l2, self.a2,\n",
    "                       self.l3, self.a3,\n",
    "                       self.l4]\n",
    "        \n",
    "    def forward(self, x):\n",
    "        for layer in self.layers:\n",
    "            x = layer(x)\n",
    "            \n",
    "        return x"
   ]
  },
  {
   "cell_type": "code",
   "execution_count": 24,
   "metadata": {},
   "outputs": [],
   "source": [
    "root = os.path.join('~', '.torch', 'mnist')\n",
    "transform = transforms.Compose([transforms.ToTensor(),\n",
    "                               lambda x: x.view(-1)])\n",
    "mnist_train = datasets.MNIST(root = root, \n",
    "                            download = True,\n",
    "                            train = True,\n",
    "                            transform = transform)\n",
    "mnist_test = datasets.MNIST(root = root, \n",
    "                            download = True,\n",
    "                            train = False,\n",
    "                            transform = transform)\n",
    "train_dataloader = DataLoader(mnist_train,\n",
    "                             batch_size=100,\n",
    "                             shuffle = True)\n",
    "test_dataloader  = DataLoader(mnist_test,\n",
    "                             batch_size=100,\n",
    "                             shuffle = False)"
   ]
  },
  {
   "cell_type": "code",
   "execution_count": 25,
   "metadata": {},
   "outputs": [],
   "source": [
    "model = DNN(784, 200, 10).to(device)"
   ]
  },
  {
   "cell_type": "code",
   "execution_count": 26,
   "metadata": {},
   "outputs": [
    {
     "name": "stdout",
     "output_type": "stream",
     "text": [
      "epoch:1, loss:2.31, acc:0.104\n",
      "epoch:2, loss:2.31, acc:0.105\n",
      "epoch:3, loss:2.31, acc:0.107\n",
      "epoch:4, loss:2.3, acc:0.107\n",
      "epoch:5, loss:2.3, acc:0.112\n",
      "epoch:6, loss:2.3, acc:0.117\n",
      "epoch:7, loss:2.3, acc:0.128\n",
      "epoch:8, loss:2.28, acc:0.173\n",
      "epoch:9, loss:2.13, acc:0.270\n",
      "epoch:10, loss:1.76, acc:0.368\n",
      "epoch:11, loss:1.39, acc:0.486\n",
      "epoch:12, loss:1.17, acc:0.564\n",
      "epoch:13, loss:1.06, acc:0.627\n",
      "epoch:14, loss:0.925, acc:0.695\n",
      "epoch:15, loss:0.775, acc:0.757\n",
      "epoch:16, loss:0.688, acc:0.789\n",
      "epoch:17, loss:0.637, acc:0.810\n",
      "epoch:18, loss:0.596, acc:0.826\n",
      "epoch:19, loss:0.561, acc:0.839\n",
      "epoch:20, loss:0.53, acc:0.850\n",
      "epoch:21, loss:0.503, acc:0.859\n",
      "epoch:22, loss:0.478, acc:0.866\n",
      "epoch:23, loss:0.456, acc:0.874\n",
      "epoch:24, loss:0.436, acc:0.879\n",
      "epoch:25, loss:0.417, acc:0.885\n",
      "epoch:26, loss:0.4, acc:0.890\n",
      "epoch:27, loss:0.384, acc:0.893\n",
      "epoch:28, loss:0.368, acc:0.899\n",
      "epoch:29, loss:0.354, acc:0.903\n",
      "epoch:30, loss:0.341, acc:0.906\n",
      "epoch:31, loss:0.329, acc:0.909\n",
      "epoch:32, loss:0.318, acc:0.912\n",
      "epoch:33, loss:0.307, acc:0.916\n",
      "epoch:34, loss:0.297, acc:0.918\n",
      "epoch:35, loss:0.287, acc:0.921\n",
      "epoch:36, loss:0.277, acc:0.923\n",
      "epoch:37, loss:0.268, acc:0.926\n",
      "epoch:38, loss:0.259, acc:0.929\n",
      "epoch:39, loss:0.251, acc:0.931\n",
      "epoch:40, loss:0.243, acc:0.933\n",
      "epoch:41, loss:0.234, acc:0.935\n",
      "epoch:42, loss:0.226, acc:0.937\n",
      "epoch:43, loss:0.219, acc:0.939\n",
      "epoch:44, loss:0.212, acc:0.941\n",
      "epoch:45, loss:0.205, acc:0.943\n",
      "epoch:46, loss:0.198, acc:0.945\n",
      "epoch:47, loss:0.191, acc:0.947\n",
      "epoch:48, loss:0.186, acc:0.948\n",
      "epoch:49, loss:0.18, acc:0.950\n",
      "epoch:50, loss:0.175, acc:0.952\n",
      "epoch:51, loss:0.17, acc:0.952\n",
      "epoch:52, loss:0.165, acc:0.954\n",
      "epoch:53, loss:0.161, acc:0.955\n",
      "epoch:54, loss:0.156, acc:0.956\n",
      "epoch:55, loss:0.151, acc:0.957\n",
      "epoch:56, loss:0.148, acc:0.958\n",
      "epoch:57, loss:0.144, acc:0.959\n",
      "epoch:58, loss:0.141, acc:0.960\n",
      "epoch:59, loss:0.138, acc:0.961\n",
      "epoch:60, loss:0.135, acc:0.962\n",
      "epoch:61, loss:0.132, acc:0.963\n",
      "epoch:62, loss:0.129, acc:0.963\n",
      "epoch:63, loss:0.126, acc:0.964\n",
      "epoch:64, loss:0.124, acc:0.965\n",
      "epoch:65, loss:0.121, acc:0.966\n",
      "epoch:66, loss:0.119, acc:0.966\n",
      "epoch:67, loss:0.116, acc:0.967\n",
      "epoch:68, loss:0.114, acc:0.968\n",
      "epoch:69, loss:0.112, acc:0.968\n",
      "epoch:70, loss:0.109, acc:0.969\n",
      "epoch:71, loss:0.107, acc:0.970\n",
      "epoch:72, loss:0.105, acc:0.970\n",
      "epoch:73, loss:0.103, acc:0.971\n",
      "epoch:74, loss:0.101, acc:0.971\n",
      "epoch:75, loss:0.0992, acc:0.972\n",
      "epoch:76, loss:0.0972, acc:0.972\n",
      "epoch:77, loss:0.0951, acc:0.973\n",
      "epoch:78, loss:0.0938, acc:0.974\n",
      "epoch:79, loss:0.0918, acc:0.974\n",
      "epoch:80, loss:0.09, acc:0.975\n",
      "epoch:81, loss:0.0884, acc:0.975\n",
      "epoch:82, loss:0.0867, acc:0.976\n",
      "epoch:83, loss:0.0855, acc:0.976\n",
      "epoch:84, loss:0.0837, acc:0.976\n",
      "epoch:85, loss:0.0822, acc:0.977\n",
      "epoch:86, loss:0.0809, acc:0.977\n",
      "epoch:87, loss:0.0794, acc:0.978\n",
      "epoch:88, loss:0.0782, acc:0.978\n",
      "epoch:89, loss:0.0762, acc:0.979\n",
      "epoch:90, loss:0.075, acc:0.979\n",
      "epoch:91, loss:0.0736, acc:0.979\n",
      "epoch:92, loss:0.0725, acc:0.979\n",
      "epoch:93, loss:0.0715, acc:0.981\n",
      "epoch:94, loss:0.0698, acc:0.980\n",
      "epoch:95, loss:0.0686, acc:0.981\n",
      "epoch:96, loss:0.0674, acc:0.982\n",
      "epoch:97, loss:0.0661, acc:0.982\n",
      "epoch:98, loss:0.0652, acc:0.982\n",
      "epoch:99, loss:0.0636, acc:0.983\n",
      "epoch:100, loss:0.0626, acc:0.983\n"
     ]
    }
   ],
   "source": [
    "criterion = nn.CrossEntropyLoss()\n",
    "optimizer = optimizers.SGD(model.parameters(), lr = 0.05)\n",
    "\n",
    "def compute_loss(t, y):\n",
    "    return criterion(y, t)\n",
    "\n",
    "def train_step(x, t):\n",
    "    model.train()\n",
    "    preds = model(x)\n",
    "    loss = compute_loss(t, preds)\n",
    "    optimizer.zero_grad()\n",
    "    loss.backward()\n",
    "    optimizer.step()\n",
    "    return loss, preds\n",
    "\n",
    "epochs = 100\n",
    "for epoch in range(epochs):\n",
    "    train_loss = 0.\n",
    "    train_acc = 0.\n",
    "    for (x, t) in train_dataloader:\n",
    "        x, t = x.to(device), t.to(device)\n",
    "        loss, preds = train_step(x, t)\n",
    "        train_loss += loss.item()\n",
    "        train_acc += accuracy_score(t.tolist(), preds.argmax(dim=-1).tolist())\n",
    "    train_loss /= len(train_dataloader)\n",
    "    train_acc /= len(train_dataloader)\n",
    "    print('epoch:{}, loss:{:.3}, acc:{:.3f}'.format(epoch+1, train_loss, train_acc))"
   ]
  },
  {
   "cell_type": "code",
   "execution_count": 27,
   "metadata": {},
   "outputs": [
    {
     "name": "stdout",
     "output_type": "stream",
     "text": [
      "test_loss:0.118, test_acc:0.967\n"
     ]
    }
   ],
   "source": [
    "def test_step(x, t):\n",
    "    model.eval()\n",
    "    preds = model(x)\n",
    "    loss = criterrion(preds, t)\n",
    "    return loss, preds\n",
    "\n",
    "test_loss = 0.\n",
    "test_acc = 0.\n",
    "for (x, t) in test_dataloader:\n",
    "    x, t = x.to(device), t.to(device)\n",
    "    loss, preds = train_step(x, t)\n",
    "    test_loss += loss.item()\n",
    "    test_acc += accuracy_score(t.tolist(), preds.argmax(dim=-1).tolist())\n",
    "test_loss /= len(test_dataloader)\n",
    "test_acc /= len(test_dataloader)\n",
    "print('test_loss:{:.3f}, test_acc:{:.3f}'.format(test_loss, test_acc))"
   ]
  },
  {
   "cell_type": "code",
   "execution_count": 52,
   "metadata": {},
   "outputs": [
    {
     "name": "stdout",
     "output_type": "stream",
     "text": [
      "Label: 4  Pred:  4\n",
      "Label: 0  Pred:  0\n",
      "Label: 4  Pred:  4\n",
      "Label: 7  Pred:  7\n",
      "Label: 6  Pred:  6\n",
      "Label: 3  Pred:  3\n",
      "Label: 2  Pred:  2\n",
      "Label: 4  Pred:  4\n",
      "Label: 7  Pred:  7\n",
      "Label: 6  Pred:  6\n"
     ]
    },
    {
     "data": {
      "image/png": "[encoded data removed]",
      "text/plain": [
       "<Figure size 432x288 with 10 Axes>"
      ]
     },
     "metadata": {
      "needs_background": "light"
     },
     "output_type": "display_data"
    }
   ],
   "source": [
    "import matplotlib.pyplot as plt\n",
    "import numpy as np\n",
    "import torchvision\n",
    "%matplotlib inline\n",
    "\n",
    "data_iter = iter(train_dataloader)\n",
    "\n",
    "for i in range(10):\n",
    "    images, labels = data_iter.next()\n",
    "    npimg = images[0].numpy()\n",
    "    npimg = npimg.reshape((28, 28))\n",
    "    plt.subplot(2,5,i+1)\n",
    "    plt.imshow(npimg, cmap='gray')\n",
    "    model.eval()\n",
    "    images = images.to(device)\n",
    "    preds = model(images)\n",
    "    print('Label:', labels.tolist()[0], ' Pred: ',preds.argmax(dim=-1).tolist()[0])"
   ]
  },
  {
   "cell_type": "code",
   "execution_count": null,
   "metadata": {},
   "outputs": [],
   "source": []
  }
 ],
 "metadata": {
  "kernelspec": {
   "display_name": "Python 3",
   "language": "python",
   "name": "python3"
  },
  "language_info": {
   "codemirror_mode": {
    "name": "ipython",
    "version": 3
   },
   "file_extension": ".py",
   "mimetype": "text/x-python",
   "name": "python",
   "nbconvert_exporter": "python",
   "pygments_lexer": "ipython3",
   "version": "3.7.6"
  }
 },
 "nbformat": 4,
 "nbformat_minor": 2
}
